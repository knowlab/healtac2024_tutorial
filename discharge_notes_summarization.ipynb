{
  "nbformat": 4,
  "nbformat_minor": 0,
  "metadata": {
    "colab": {
      "provenance": [],
      "gpuType": "T4"
    },
    "kernelspec": {
      "name": "python3",
      "display_name": "Python 3"
    },
    "language_info": {
      "name": "python"
    },
    "accelerator": "GPU",
    "widgets": {
      "application/vnd.jupyter.widget-state+json": {
        "7048cffe31f044028f39cf5fe4c615c2": {
          "model_module": "@jupyter-widgets/controls",
          "model_name": "HBoxModel",
          "model_module_version": "1.5.0",
          "state": {
            "_dom_classes": [],
            "_model_module": "@jupyter-widgets/controls",
            "_model_module_version": "1.5.0",
            "_model_name": "HBoxModel",
            "_view_count": null,
            "_view_module": "@jupyter-widgets/controls",
            "_view_module_version": "1.5.0",
            "_view_name": "HBoxView",
            "box_style": "",
            "children": [
              "IPY_MODEL_3f4850838fa248ee87caa66e897447fb",
              "IPY_MODEL_1b49e880cbcf4b018af11c8a12b3ce04",
              "IPY_MODEL_e0e3bc677d3f4526b47f9cce2736fabd"
            ],
            "layout": "IPY_MODEL_762ff7db1ae14d76b6332ba973ff4e07"
          }
        },
        "3f4850838fa248ee87caa66e897447fb": {
          "model_module": "@jupyter-widgets/controls",
          "model_name": "HTMLModel",
          "model_module_version": "1.5.0",
          "state": {
            "_dom_classes": [],
            "_model_module": "@jupyter-widgets/controls",
            "_model_module_version": "1.5.0",
            "_model_name": "HTMLModel",
            "_view_count": null,
            "_view_module": "@jupyter-widgets/controls",
            "_view_module_version": "1.5.0",
            "_view_name": "HTMLView",
            "description": "",
            "description_tooltip": null,
            "layout": "IPY_MODEL_c23867ede4d9446382488d80707ed90d",
            "placeholder": "​",
            "style": "IPY_MODEL_2899116e537c4e18a096e717718039a1",
            "value": "Loading checkpoint shards: 100%"
          }
        },
        "1b49e880cbcf4b018af11c8a12b3ce04": {
          "model_module": "@jupyter-widgets/controls",
          "model_name": "FloatProgressModel",
          "model_module_version": "1.5.0",
          "state": {
            "_dom_classes": [],
            "_model_module": "@jupyter-widgets/controls",
            "_model_module_version": "1.5.0",
            "_model_name": "FloatProgressModel",
            "_view_count": null,
            "_view_module": "@jupyter-widgets/controls",
            "_view_module_version": "1.5.0",
            "_view_name": "ProgressView",
            "bar_style": "success",
            "description": "",
            "description_tooltip": null,
            "layout": "IPY_MODEL_c084a403c18a4ab7ac34417cbb49696e",
            "max": 2,
            "min": 0,
            "orientation": "horizontal",
            "style": "IPY_MODEL_d3df3f1359c24507ab25e48f1fb1e6aa",
            "value": 2
          }
        },
        "e0e3bc677d3f4526b47f9cce2736fabd": {
          "model_module": "@jupyter-widgets/controls",
          "model_name": "HTMLModel",
          "model_module_version": "1.5.0",
          "state": {
            "_dom_classes": [],
            "_model_module": "@jupyter-widgets/controls",
            "_model_module_version": "1.5.0",
            "_model_name": "HTMLModel",
            "_view_count": null,
            "_view_module": "@jupyter-widgets/controls",
            "_view_module_version": "1.5.0",
            "_view_name": "HTMLView",
            "description": "",
            "description_tooltip": null,
            "layout": "IPY_MODEL_8f02ce187aba4bfc9aad082490572353",
            "placeholder": "​",
            "style": "IPY_MODEL_ac35bd0727d14d0c89d781b24de9487a",
            "value": " 2/2 [00:23&lt;00:00, 10.22s/it]"
          }
        },
        "762ff7db1ae14d76b6332ba973ff4e07": {
          "model_module": "@jupyter-widgets/base",
          "model_name": "LayoutModel",
          "model_module_version": "1.2.0",
          "state": {
            "_model_module": "@jupyter-widgets/base",
            "_model_module_version": "1.2.0",
            "_model_name": "LayoutModel",
            "_view_count": null,
            "_view_module": "@jupyter-widgets/base",
            "_view_module_version": "1.2.0",
            "_view_name": "LayoutView",
            "align_content": null,
            "align_items": null,
            "align_self": null,
            "border": null,
            "bottom": null,
            "display": null,
            "flex": null,
            "flex_flow": null,
            "grid_area": null,
            "grid_auto_columns": null,
            "grid_auto_flow": null,
            "grid_auto_rows": null,
            "grid_column": null,
            "grid_gap": null,
            "grid_row": null,
            "grid_template_areas": null,
            "grid_template_columns": null,
            "grid_template_rows": null,
            "height": null,
            "justify_content": null,
            "justify_items": null,
            "left": null,
            "margin": null,
            "max_height": null,
            "max_width": null,
            "min_height": null,
            "min_width": null,
            "object_fit": null,
            "object_position": null,
            "order": null,
            "overflow": null,
            "overflow_x": null,
            "overflow_y": null,
            "padding": null,
            "right": null,
            "top": null,
            "visibility": null,
            "width": null
          }
        },
        "c23867ede4d9446382488d80707ed90d": {
          "model_module": "@jupyter-widgets/base",
          "model_name": "LayoutModel",
          "model_module_version": "1.2.0",
          "state": {
            "_model_module": "@jupyter-widgets/base",
            "_model_module_version": "1.2.0",
            "_model_name": "LayoutModel",
            "_view_count": null,
            "_view_module": "@jupyter-widgets/base",
            "_view_module_version": "1.2.0",
            "_view_name": "LayoutView",
            "align_content": null,
            "align_items": null,
            "align_self": null,
            "border": null,
            "bottom": null,
            "display": null,
            "flex": null,
            "flex_flow": null,
            "grid_area": null,
            "grid_auto_columns": null,
            "grid_auto_flow": null,
            "grid_auto_rows": null,
            "grid_column": null,
            "grid_gap": null,
            "grid_row": null,
            "grid_template_areas": null,
            "grid_template_columns": null,
            "grid_template_rows": null,
            "height": null,
            "justify_content": null,
            "justify_items": null,
            "left": null,
            "margin": null,
            "max_height": null,
            "max_width": null,
            "min_height": null,
            "min_width": null,
            "object_fit": null,
            "object_position": null,
            "order": null,
            "overflow": null,
            "overflow_x": null,
            "overflow_y": null,
            "padding": null,
            "right": null,
            "top": null,
            "visibility": null,
            "width": null
          }
        },
        "2899116e537c4e18a096e717718039a1": {
          "model_module": "@jupyter-widgets/controls",
          "model_name": "DescriptionStyleModel",
          "model_module_version": "1.5.0",
          "state": {
            "_model_module": "@jupyter-widgets/controls",
            "_model_module_version": "1.5.0",
            "_model_name": "DescriptionStyleModel",
            "_view_count": null,
            "_view_module": "@jupyter-widgets/base",
            "_view_module_version": "1.2.0",
            "_view_name": "StyleView",
            "description_width": ""
          }
        },
        "c084a403c18a4ab7ac34417cbb49696e": {
          "model_module": "@jupyter-widgets/base",
          "model_name": "LayoutModel",
          "model_module_version": "1.2.0",
          "state": {
            "_model_module": "@jupyter-widgets/base",
            "_model_module_version": "1.2.0",
            "_model_name": "LayoutModel",
            "_view_count": null,
            "_view_module": "@jupyter-widgets/base",
            "_view_module_version": "1.2.0",
            "_view_name": "LayoutView",
            "align_content": null,
            "align_items": null,
            "align_self": null,
            "border": null,
            "bottom": null,
            "display": null,
            "flex": null,
            "flex_flow": null,
            "grid_area": null,
            "grid_auto_columns": null,
            "grid_auto_flow": null,
            "grid_auto_rows": null,
            "grid_column": null,
            "grid_gap": null,
            "grid_row": null,
            "grid_template_areas": null,
            "grid_template_columns": null,
            "grid_template_rows": null,
            "height": null,
            "justify_content": null,
            "justify_items": null,
            "left": null,
            "margin": null,
            "max_height": null,
            "max_width": null,
            "min_height": null,
            "min_width": null,
            "object_fit": null,
            "object_position": null,
            "order": null,
            "overflow": null,
            "overflow_x": null,
            "overflow_y": null,
            "padding": null,
            "right": null,
            "top": null,
            "visibility": null,
            "width": null
          }
        },
        "d3df3f1359c24507ab25e48f1fb1e6aa": {
          "model_module": "@jupyter-widgets/controls",
          "model_name": "ProgressStyleModel",
          "model_module_version": "1.5.0",
          "state": {
            "_model_module": "@jupyter-widgets/controls",
            "_model_module_version": "1.5.0",
            "_model_name": "ProgressStyleModel",
            "_view_count": null,
            "_view_module": "@jupyter-widgets/base",
            "_view_module_version": "1.2.0",
            "_view_name": "StyleView",
            "bar_color": null,
            "description_width": ""
          }
        },
        "8f02ce187aba4bfc9aad082490572353": {
          "model_module": "@jupyter-widgets/base",
          "model_name": "LayoutModel",
          "model_module_version": "1.2.0",
          "state": {
            "_model_module": "@jupyter-widgets/base",
            "_model_module_version": "1.2.0",
            "_model_name": "LayoutModel",
            "_view_count": null,
            "_view_module": "@jupyter-widgets/base",
            "_view_module_version": "1.2.0",
            "_view_name": "LayoutView",
            "align_content": null,
            "align_items": null,
            "align_self": null,
            "border": null,
            "bottom": null,
            "display": null,
            "flex": null,
            "flex_flow": null,
            "grid_area": null,
            "grid_auto_columns": null,
            "grid_auto_flow": null,
            "grid_auto_rows": null,
            "grid_column": null,
            "grid_gap": null,
            "grid_row": null,
            "grid_template_areas": null,
            "grid_template_columns": null,
            "grid_template_rows": null,
            "height": null,
            "justify_content": null,
            "justify_items": null,
            "left": null,
            "margin": null,
            "max_height": null,
            "max_width": null,
            "min_height": null,
            "min_width": null,
            "object_fit": null,
            "object_position": null,
            "order": null,
            "overflow": null,
            "overflow_x": null,
            "overflow_y": null,
            "padding": null,
            "right": null,
            "top": null,
            "visibility": null,
            "width": null
          }
        },
        "ac35bd0727d14d0c89d781b24de9487a": {
          "model_module": "@jupyter-widgets/controls",
          "model_name": "DescriptionStyleModel",
          "model_module_version": "1.5.0",
          "state": {
            "_model_module": "@jupyter-widgets/controls",
            "_model_module_version": "1.5.0",
            "_model_name": "DescriptionStyleModel",
            "_view_count": null,
            "_view_module": "@jupyter-widgets/base",
            "_view_module_version": "1.2.0",
            "_view_name": "StyleView",
            "description_width": ""
          }
        },
        "b74b446f37884b49adaf677a675b84d4": {
          "model_module": "@jupyter-widgets/controls",
          "model_name": "HBoxModel",
          "model_module_version": "1.5.0",
          "state": {
            "_dom_classes": [],
            "_model_module": "@jupyter-widgets/controls",
            "_model_module_version": "1.5.0",
            "_model_name": "HBoxModel",
            "_view_count": null,
            "_view_module": "@jupyter-widgets/controls",
            "_view_module_version": "1.5.0",
            "_view_name": "HBoxView",
            "box_style": "",
            "children": [
              "IPY_MODEL_1fa8a3b70e7643d38de7db81538b645d",
              "IPY_MODEL_0ae6094597fa48d49b570b88e6d29c18",
              "IPY_MODEL_b2a6758c07a3471287c939a6e953603e"
            ],
            "layout": "IPY_MODEL_74e453bc12c543f08f4da5115cc5289d"
          }
        },
        "1fa8a3b70e7643d38de7db81538b645d": {
          "model_module": "@jupyter-widgets/controls",
          "model_name": "HTMLModel",
          "model_module_version": "1.5.0",
          "state": {
            "_dom_classes": [],
            "_model_module": "@jupyter-widgets/controls",
            "_model_module_version": "1.5.0",
            "_model_name": "HTMLModel",
            "_view_count": null,
            "_view_module": "@jupyter-widgets/controls",
            "_view_module_version": "1.5.0",
            "_view_name": "HTMLView",
            "description": "",
            "description_tooltip": null,
            "layout": "IPY_MODEL_4845362f557040e09907e657b8518a40",
            "placeholder": "​",
            "style": "IPY_MODEL_5e76780e779d4a40bc948f0f2c533605",
            "value": "Map: 100%"
          }
        },
        "0ae6094597fa48d49b570b88e6d29c18": {
          "model_module": "@jupyter-widgets/controls",
          "model_name": "FloatProgressModel",
          "model_module_version": "1.5.0",
          "state": {
            "_dom_classes": [],
            "_model_module": "@jupyter-widgets/controls",
            "_model_module_version": "1.5.0",
            "_model_name": "FloatProgressModel",
            "_view_count": null,
            "_view_module": "@jupyter-widgets/controls",
            "_view_module_version": "1.5.0",
            "_view_name": "ProgressView",
            "bar_style": "success",
            "description": "",
            "description_tooltip": null,
            "layout": "IPY_MODEL_661889c7de6f408bb1bc7abcd900834e",
            "max": 10,
            "min": 0,
            "orientation": "horizontal",
            "style": "IPY_MODEL_bdb8307e8c144502a448e9f47d41ef04",
            "value": 10
          }
        },
        "b2a6758c07a3471287c939a6e953603e": {
          "model_module": "@jupyter-widgets/controls",
          "model_name": "HTMLModel",
          "model_module_version": "1.5.0",
          "state": {
            "_dom_classes": [],
            "_model_module": "@jupyter-widgets/controls",
            "_model_module_version": "1.5.0",
            "_model_name": "HTMLModel",
            "_view_count": null,
            "_view_module": "@jupyter-widgets/controls",
            "_view_module_version": "1.5.0",
            "_view_name": "HTMLView",
            "description": "",
            "description_tooltip": null,
            "layout": "IPY_MODEL_2a92952286904e8ea2ff19edf53be22b",
            "placeholder": "​",
            "style": "IPY_MODEL_a20218a3f5c64bfe84c0dfa8ee26f938",
            "value": " 10/10 [00:00&lt;00:00, 92.66 examples/s]"
          }
        },
        "74e453bc12c543f08f4da5115cc5289d": {
          "model_module": "@jupyter-widgets/base",
          "model_name": "LayoutModel",
          "model_module_version": "1.2.0",
          "state": {
            "_model_module": "@jupyter-widgets/base",
            "_model_module_version": "1.2.0",
            "_model_name": "LayoutModel",
            "_view_count": null,
            "_view_module": "@jupyter-widgets/base",
            "_view_module_version": "1.2.0",
            "_view_name": "LayoutView",
            "align_content": null,
            "align_items": null,
            "align_self": null,
            "border": null,
            "bottom": null,
            "display": null,
            "flex": null,
            "flex_flow": null,
            "grid_area": null,
            "grid_auto_columns": null,
            "grid_auto_flow": null,
            "grid_auto_rows": null,
            "grid_column": null,
            "grid_gap": null,
            "grid_row": null,
            "grid_template_areas": null,
            "grid_template_columns": null,
            "grid_template_rows": null,
            "height": null,
            "justify_content": null,
            "justify_items": null,
            "left": null,
            "margin": null,
            "max_height": null,
            "max_width": null,
            "min_height": null,
            "min_width": null,
            "object_fit": null,
            "object_position": null,
            "order": null,
            "overflow": null,
            "overflow_x": null,
            "overflow_y": null,
            "padding": null,
            "right": null,
            "top": null,
            "visibility": null,
            "width": null
          }
        },
        "4845362f557040e09907e657b8518a40": {
          "model_module": "@jupyter-widgets/base",
          "model_name": "LayoutModel",
          "model_module_version": "1.2.0",
          "state": {
            "_model_module": "@jupyter-widgets/base",
            "_model_module_version": "1.2.0",
            "_model_name": "LayoutModel",
            "_view_count": null,
            "_view_module": "@jupyter-widgets/base",
            "_view_module_version": "1.2.0",
            "_view_name": "LayoutView",
            "align_content": null,
            "align_items": null,
            "align_self": null,
            "border": null,
            "bottom": null,
            "display": null,
            "flex": null,
            "flex_flow": null,
            "grid_area": null,
            "grid_auto_columns": null,
            "grid_auto_flow": null,
            "grid_auto_rows": null,
            "grid_column": null,
            "grid_gap": null,
            "grid_row": null,
            "grid_template_areas": null,
            "grid_template_columns": null,
            "grid_template_rows": null,
            "height": null,
            "justify_content": null,
            "justify_items": null,
            "left": null,
            "margin": null,
            "max_height": null,
            "max_width": null,
            "min_height": null,
            "min_width": null,
            "object_fit": null,
            "object_position": null,
            "order": null,
            "overflow": null,
            "overflow_x": null,
            "overflow_y": null,
            "padding": null,
            "right": null,
            "top": null,
            "visibility": null,
            "width": null
          }
        },
        "5e76780e779d4a40bc948f0f2c533605": {
          "model_module": "@jupyter-widgets/controls",
          "model_name": "DescriptionStyleModel",
          "model_module_version": "1.5.0",
          "state": {
            "_model_module": "@jupyter-widgets/controls",
            "_model_module_version": "1.5.0",
            "_model_name": "DescriptionStyleModel",
            "_view_count": null,
            "_view_module": "@jupyter-widgets/base",
            "_view_module_version": "1.2.0",
            "_view_name": "StyleView",
            "description_width": ""
          }
        },
        "661889c7de6f408bb1bc7abcd900834e": {
          "model_module": "@jupyter-widgets/base",
          "model_name": "LayoutModel",
          "model_module_version": "1.2.0",
          "state": {
            "_model_module": "@jupyter-widgets/base",
            "_model_module_version": "1.2.0",
            "_model_name": "LayoutModel",
            "_view_count": null,
            "_view_module": "@jupyter-widgets/base",
            "_view_module_version": "1.2.0",
            "_view_name": "LayoutView",
            "align_content": null,
            "align_items": null,
            "align_self": null,
            "border": null,
            "bottom": null,
            "display": null,
            "flex": null,
            "flex_flow": null,
            "grid_area": null,
            "grid_auto_columns": null,
            "grid_auto_flow": null,
            "grid_auto_rows": null,
            "grid_column": null,
            "grid_gap": null,
            "grid_row": null,
            "grid_template_areas": null,
            "grid_template_columns": null,
            "grid_template_rows": null,
            "height": null,
            "justify_content": null,
            "justify_items": null,
            "left": null,
            "margin": null,
            "max_height": null,
            "max_width": null,
            "min_height": null,
            "min_width": null,
            "object_fit": null,
            "object_position": null,
            "order": null,
            "overflow": null,
            "overflow_x": null,
            "overflow_y": null,
            "padding": null,
            "right": null,
            "top": null,
            "visibility": null,
            "width": null
          }
        },
        "bdb8307e8c144502a448e9f47d41ef04": {
          "model_module": "@jupyter-widgets/controls",
          "model_name": "ProgressStyleModel",
          "model_module_version": "1.5.0",
          "state": {
            "_model_module": "@jupyter-widgets/controls",
            "_model_module_version": "1.5.0",
            "_model_name": "ProgressStyleModel",
            "_view_count": null,
            "_view_module": "@jupyter-widgets/base",
            "_view_module_version": "1.2.0",
            "_view_name": "StyleView",
            "bar_color": null,
            "description_width": ""
          }
        },
        "2a92952286904e8ea2ff19edf53be22b": {
          "model_module": "@jupyter-widgets/base",
          "model_name": "LayoutModel",
          "model_module_version": "1.2.0",
          "state": {
            "_model_module": "@jupyter-widgets/base",
            "_model_module_version": "1.2.0",
            "_model_name": "LayoutModel",
            "_view_count": null,
            "_view_module": "@jupyter-widgets/base",
            "_view_module_version": "1.2.0",
            "_view_name": "LayoutView",
            "align_content": null,
            "align_items": null,
            "align_self": null,
            "border": null,
            "bottom": null,
            "display": null,
            "flex": null,
            "flex_flow": null,
            "grid_area": null,
            "grid_auto_columns": null,
            "grid_auto_flow": null,
            "grid_auto_rows": null,
            "grid_column": null,
            "grid_gap": null,
            "grid_row": null,
            "grid_template_areas": null,
            "grid_template_columns": null,
            "grid_template_rows": null,
            "height": null,
            "justify_content": null,
            "justify_items": null,
            "left": null,
            "margin": null,
            "max_height": null,
            "max_width": null,
            "min_height": null,
            "min_width": null,
            "object_fit": null,
            "object_position": null,
            "order": null,
            "overflow": null,
            "overflow_x": null,
            "overflow_y": null,
            "padding": null,
            "right": null,
            "top": null,
            "visibility": null,
            "width": null
          }
        },
        "a20218a3f5c64bfe84c0dfa8ee26f938": {
          "model_module": "@jupyter-widgets/controls",
          "model_name": "DescriptionStyleModel",
          "model_module_version": "1.5.0",
          "state": {
            "_model_module": "@jupyter-widgets/controls",
            "_model_module_version": "1.5.0",
            "_model_name": "DescriptionStyleModel",
            "_view_count": null,
            "_view_module": "@jupyter-widgets/base",
            "_view_module_version": "1.2.0",
            "_view_name": "StyleView",
            "description_width": ""
          }
        }
      }
    }
  },
  "cells": [
    {
      "cell_type": "markdown",
      "source": [
        "# HealTac 2024 Tutorial\n",
        "## Instruction Tuning for Discharge Notes Summarization\n",
        "\n",
        "- Yunsoo Kim (yunsoo.kim.23@ucl.ac.uk), Jinge Wu (jinge.wu.20@ucl.ac.uk), Honghan Wu (honghan.wu@ucl.ac.uk)\n",
        "\n",
        "<a target=\"_blank\" href=\"https://colab.research.google.com/github/knowlab/healtac_2024_tutorial/blob/main/discharge_notes_summarization.ipynb\">\n",
        "  <img src=\"https://colab.research.google.com/assets/colab-badge.svg\" alt=\"Open In Colab\"/>\n",
        "</a>"
      ],
      "metadata": {
        "id": "PgS8fQu0dju7"
      }
    },
    {
      "cell_type": "markdown",
      "source": [
        "Set the runtime to be T4 GPU.  \n",
        "\n",
        "We will get started with installing packages and downloading the model."
      ],
      "metadata": {
        "id": "vcXEvrKFeVG5"
      }
    },
    {
      "cell_type": "code",
      "source": [
        "# Run nvidia-smi to check the gpu resource\n",
        "!nvidia-smi"
      ],
      "metadata": {
        "colab": {
          "base_uri": "https://localhost:8080/"
        },
        "id": "Aoe8KWfRfKQC",
        "outputId": "9382c319-f1e4-4910-ce4e-011af530c911"
      },
      "execution_count": 1,
      "outputs": [
        {
          "output_type": "stream",
          "name": "stdout",
          "text": [
            "Tue Jun  4 13:55:26 2024       \n",
            "+---------------------------------------------------------------------------------------+\n",
            "| NVIDIA-SMI 535.104.05             Driver Version: 535.104.05   CUDA Version: 12.2     |\n",
            "|-----------------------------------------+----------------------+----------------------+\n",
            "| GPU  Name                 Persistence-M | Bus-Id        Disp.A | Volatile Uncorr. ECC |\n",
            "| Fan  Temp   Perf          Pwr:Usage/Cap |         Memory-Usage | GPU-Util  Compute M. |\n",
            "|                                         |                      |               MIG M. |\n",
            "|=========================================+======================+======================|\n",
            "|   0  Tesla T4                       Off | 00000000:00:04.0 Off |                    0 |\n",
            "| N/A   58C    P8              10W /  70W |      0MiB / 15360MiB |      0%      Default |\n",
            "|                                         |                      |                  N/A |\n",
            "+-----------------------------------------+----------------------+----------------------+\n",
            "                                                                                         \n",
            "+---------------------------------------------------------------------------------------+\n",
            "| Processes:                                                                            |\n",
            "|  GPU   GI   CI        PID   Type   Process name                            GPU Memory |\n",
            "|        ID   ID                                                             Usage      |\n",
            "|=======================================================================================|\n",
            "|  No running processes found                                                           |\n",
            "+---------------------------------------------------------------------------------------+\n"
          ]
        }
      ]
    },
    {
      "cell_type": "code",
      "execution_count": 2,
      "metadata": {
        "id": "JLdwofkkdfEt"
      },
      "outputs": [],
      "source": [
        "# First, install required packages\n",
        "!pip install -q accelerate==0.25.0 peft==0.6.2 bitsandbytes==0.41.1 transformers==4.36.2 trl==0.7.4 einops gradio"
      ]
    },
    {
      "cell_type": "code",
      "source": [
        "# Import Libraries\n",
        "import torch\n",
        "from datasets import load_dataset\n",
        "from transformers import (\n",
        "    AutoModelForCausalLM,\n",
        "    AutoTokenizer,\n",
        "    BitsAndBytesConfig,\n",
        "    TrainingArguments,\n",
        ")\n",
        "from peft import LoraConfig\n",
        "from trl import SFTTrainer, DataCollatorForCompletionOnlyLM\n",
        "import gradio as gr"
      ],
      "metadata": {
        "colab": {
          "base_uri": "https://localhost:8080/"
        },
        "id": "7D953H5Xedjr",
        "outputId": "c32b4f3f-2b6f-4f1c-95f4-da406aaca8bd"
      },
      "execution_count": 3,
      "outputs": [
        {
          "output_type": "stream",
          "name": "stderr",
          "text": [
            "/usr/local/lib/python3.10/dist-packages/transformers/utils/generic.py:441: UserWarning: torch.utils._pytree._register_pytree_node is deprecated. Please use torch.utils._pytree.register_pytree_node instead.\n",
            "  _torch_pytree._register_pytree_node(\n",
            "/usr/local/lib/python3.10/dist-packages/transformers/utils/generic.py:309: UserWarning: torch.utils._pytree._register_pytree_node is deprecated. Please use torch.utils._pytree.register_pytree_node instead.\n",
            "  _torch_pytree._register_pytree_node(\n",
            "/usr/local/lib/python3.10/dist-packages/trl/trainer/ppo_config.py:141: UserWarning: The `optimize_cuda_cache` arguement will be deprecated soon, please use `optimize_device_cache` instead.\n",
            "  warnings.warn(\n"
          ]
        }
      ]
    },
    {
      "cell_type": "code",
      "source": [
        "# Define Quantization Config\n",
        "bnb_config = BitsAndBytesConfig(\n",
        "    load_in_4bit=True,\n",
        "    bnb_4bit_compute_dtype=torch.float16,\n",
        "    bnb_4bit_quant_type=\"nf4\",\n",
        ")\n",
        "\n",
        "# Load Model and Dataset\n",
        "model = AutoModelForCausalLM.from_pretrained(\n",
        "    \"microsoft/phi-2\",\n",
        "    trust_remote_code=True,\n",
        "    quantization_config=bnb_config,\n",
        "    device_map=\"auto\",\n",
        "    revision=\"refs/pr/23\"\n",
        ")\n",
        "\n",
        "tokenizer = AutoTokenizer.from_pretrained('microsoft/phi-2')\n",
        "tokenizer.pad_token = tokenizer.eos_token\n",
        "tokenizer.padding_sight = \"right\"\n",
        "\n",
        "dataset = load_dataset(\"bluesky333/synthetic_discharge_summ\")"
      ],
      "metadata": {
        "colab": {
          "base_uri": "https://localhost:8080/",
          "height": 225,
          "referenced_widgets": [
            "7048cffe31f044028f39cf5fe4c615c2",
            "3f4850838fa248ee87caa66e897447fb",
            "1b49e880cbcf4b018af11c8a12b3ce04",
            "e0e3bc677d3f4526b47f9cce2736fabd",
            "762ff7db1ae14d76b6332ba973ff4e07",
            "c23867ede4d9446382488d80707ed90d",
            "2899116e537c4e18a096e717718039a1",
            "c084a403c18a4ab7ac34417cbb49696e",
            "d3df3f1359c24507ab25e48f1fb1e6aa",
            "8f02ce187aba4bfc9aad082490572353",
            "ac35bd0727d14d0c89d781b24de9487a"
          ]
        },
        "id": "g4dbN3Bzefu8",
        "outputId": "cd7e3231-b856-4c21-e6f3-9d8ccdb2449d"
      },
      "execution_count": 4,
      "outputs": [
        {
          "output_type": "stream",
          "name": "stderr",
          "text": [
            "/usr/local/lib/python3.10/dist-packages/huggingface_hub/file_download.py:1132: FutureWarning: `resume_download` is deprecated and will be removed in version 1.0.0. Downloads always resume when possible. If you want to force a new download, use `force_download=True`.\n",
            "  warnings.warn(\n",
            "/usr/local/lib/python3.10/dist-packages/huggingface_hub/utils/_token.py:89: UserWarning: \n",
            "The secret `HF_TOKEN` does not exist in your Colab secrets.\n",
            "To authenticate with the Hugging Face Hub, create a token in your settings tab (https://huggingface.co/settings/tokens), set it as secret in your Google Colab and restart your session.\n",
            "You will be able to reuse this secret in all of your notebooks.\n",
            "Please note that authentication is recommended but still optional to access public models or datasets.\n",
            "  warnings.warn(\n"
          ]
        },
        {
          "output_type": "display_data",
          "data": {
            "text/plain": [
              "Loading checkpoint shards:   0%|          | 0/2 [00:00<?, ?it/s]"
            ],
            "application/vnd.jupyter.widget-view+json": {
              "version_major": 2,
              "version_minor": 0,
              "model_id": "7048cffe31f044028f39cf5fe4c615c2"
            }
          },
          "metadata": {}
        },
        {
          "output_type": "stream",
          "name": "stderr",
          "text": [
            "Special tokens have been added in the vocabulary, make sure the associated word embeddings are fine-tuned or trained.\n"
          ]
        }
      ]
    },
    {
      "cell_type": "code",
      "source": [
        "# First of all, let's have a look at the dataset\n",
        "print(dataset['train'])\n",
        "dataset['train'][0]"
      ],
      "metadata": {
        "colab": {
          "base_uri": "https://localhost:8080/"
        },
        "id": "OMoZKdyTe4Hd",
        "outputId": "89d89999-7620-4b53-8a39-803c3c155532"
      },
      "execution_count": 5,
      "outputs": [
        {
          "output_type": "stream",
          "name": "stdout",
          "text": [
            "Dataset({\n",
            "    features: ['patient_id', 'note', 'question', 'answer'],\n",
            "    num_rows: 13584\n",
            "})\n"
          ]
        },
        {
          "output_type": "execute_result",
          "data": {
            "text/plain": [
              "{'patient_id': 5,\n",
              " 'note': \"Discharge Summary:\\n\\nPatient: 52-year-old male hospitalized for pneumonia and moderate ARDS\\n\\nHospital Course:\\nThe patient was admitted to the hospital four days after the beginning of a dry cough, fever, and head and limb pain and tested COVID-19 positive. One day later, he was diagnosed with pneumonia that progressed into moderate ARDS and required mechanical ventilation and intermittent dialysis. After extubation, the patient experienced disorientation and an inability to communicate verbally due to global weakness (CPAx 11/50), accompanied by oral and pharyngeal weakness and paresthesia. Specialized physical therapy with the Gugging Swallowing Screen confirmed severe dysphagia, with the patient showing insufficient protection against aspiration. Treatment included therapy for dysphagia, such as intensive oral stimulation, facilitation of swallowing, and protection mechanism training, while receiving no food or drink by mouth. Over the next few days, the patient was able to swallow pureéd food and mildly thick liquids under supervision, although cough strength remained weak. The patient progressed gradually and became capable of independent food ingestion before discharge.\\n\\nDischarge:\\nThe patient was discharged 25 days after admission to a rehabilitation clinic. The patient's respiratory condition stabilized, although dysphagia was still evident, with mild oral and pharyngeal dry saliva residuals that continued to compromise paresthesia and needed ongoing regular oral care. Overall, the patient's condition improved and continued to progress during the hospital stay.\",\n",
              " 'question': \"How did the patient's treatment for dysphagia progress during their hospital stay, as outlined in the discharge summary?\",\n",
              " 'answer': \"During the patient's hospital stay, treatment for dysphagia progressed gradually, including intensive oral stimulation, facilitation of swallowing, and protection mechanism training. After being unable to eat or drink orally, the patient progressed to pureéd food and mildly thick liquids under supervision, with cough strength remaining weak. The patient eventually became capable of independent food ingestion before discharge.\"}"
            ]
          },
          "metadata": {},
          "execution_count": 5
        }
      ]
    },
    {
      "cell_type": "code",
      "source": [
        "# We make this dataset to phi-2 compatible\n",
        "# Phi-2 instruction-answer format: \"Instruct: <prompt>\\nOutput:\"\n",
        "\n",
        "# Make your own prompt!\n",
        "prompt_template=\"\"\"Instruct: Please write down your own prompt.\n",
        "For instance, you can insert the note as {{note}}\n",
        "{note}\n",
        "Model should answer to {{question}} based on the note.\n",
        "{question}\n",
        "You should maintain the phi-2 format\n",
        "Accordingly, the last line must be like the below.\n",
        "Do not forget to insert a new line between your prompt and 'Output'!\n",
        "Output: {answer}\n",
        "\"\"\"\n",
        "\n",
        "# Should get Dict[List] as input, return list of prompts\n",
        "def format_dataset(samples):\n",
        "    outputs = []\n",
        "    for _, note, question, answer in zip(*samples.values()):\n",
        "        out = prompt_template.format(note=note, question=question, answer=answer)\n",
        "        outputs.append(out)\n",
        "    return outputs\n",
        "\n",
        "sample_input = format_dataset({k: [v] for k, v in dataset['train'][0].items()})[0]\n",
        "print(sample_input)\n",
        "print(\"*\"*20)\n",
        "\n",
        "# Sanity Check\n",
        "prompt_len = len(tokenizer.encode(prompt_template))\n",
        "if prompt_len > 180:\n",
        "    raise ValueError(f\"Your prompt is too long! Please reduce the length from {prompt_len} to 180 tokens\")\n",
        "print(f\"Prompt Length: {prompt_len} tokens\")"
      ],
      "metadata": {
        "colab": {
          "base_uri": "https://localhost:8080/"
        },
        "id": "ujW2fAlue6NZ",
        "outputId": "2a1abbef-2b0b-4515-89e7-327e23393759"
      },
      "execution_count": 6,
      "outputs": [
        {
          "output_type": "stream",
          "name": "stdout",
          "text": [
            "Instruct: Please write down your own prompt.\n",
            "For instance, you can insert the note as {note}\n",
            "Discharge Summary:\n",
            "\n",
            "Patient: 52-year-old male hospitalized for pneumonia and moderate ARDS\n",
            "\n",
            "Hospital Course:\n",
            "The patient was admitted to the hospital four days after the beginning of a dry cough, fever, and head and limb pain and tested COVID-19 positive. One day later, he was diagnosed with pneumonia that progressed into moderate ARDS and required mechanical ventilation and intermittent dialysis. After extubation, the patient experienced disorientation and an inability to communicate verbally due to global weakness (CPAx 11/50), accompanied by oral and pharyngeal weakness and paresthesia. Specialized physical therapy with the Gugging Swallowing Screen confirmed severe dysphagia, with the patient showing insufficient protection against aspiration. Treatment included therapy for dysphagia, such as intensive oral stimulation, facilitation of swallowing, and protection mechanism training, while receiving no food or drink by mouth. Over the next few days, the patient was able to swallow pureéd food and mildly thick liquids under supervision, although cough strength remained weak. The patient progressed gradually and became capable of independent food ingestion before discharge.\n",
            "\n",
            "Discharge:\n",
            "The patient was discharged 25 days after admission to a rehabilitation clinic. The patient's respiratory condition stabilized, although dysphagia was still evident, with mild oral and pharyngeal dry saliva residuals that continued to compromise paresthesia and needed ongoing regular oral care. Overall, the patient's condition improved and continued to progress during the hospital stay.\n",
            "Model should answer to {question} based on the note.\n",
            "How did the patient's treatment for dysphagia progress during their hospital stay, as outlined in the discharge summary?\n",
            "You should maintain the phi-2 format\n",
            "Accordingly, the last line must be like the below.\n",
            "Do not forget to insert a new line between your prompt and 'Output'!\n",
            "Output: During the patient's hospital stay, treatment for dysphagia progressed gradually, including intensive oral stimulation, facilitation of swallowing, and protection mechanism training. After being unable to eat or drink orally, the patient progressed to pureéd food and mildly thick liquids under supervision, with cough strength remaining weak. The patient eventually became capable of independent food ingestion before discharge.\n",
            "\n",
            "********************\n",
            "Prompt Length: 90 tokens\n"
          ]
        }
      ]
    },
    {
      "cell_type": "code",
      "source": [
        "sample_idx = 0\n",
        "sample_input = format_dataset({k: [v] for k, v in dataset['train'][sample_idx].items()})[0].split('Output: ')[0]\n",
        "input_ids = tokenizer.encode(sample_input, return_tensors='pt').to('cuda')\n",
        "with torch.no_grad():\n",
        "  output = model.generate(input_ids=input_ids,\n",
        "                            max_length=512,\n",
        "                            use_cache=True,\n",
        "                            temperature=0.,\n",
        "                            eos_token_id=tokenizer.eos_token_id\n",
        "  )\n",
        "print(tokenizer.decode(output.to('cpu')[0], skip_special_tokens=True))"
      ],
      "metadata": {
        "colab": {
          "base_uri": "https://localhost:8080/"
        },
        "id": "70z9VMYUfUyE",
        "outputId": "e4d63554-61bc-429a-f205-6848a0e74485"
      },
      "execution_count": 7,
      "outputs": [
        {
          "output_type": "stream",
          "name": "stderr",
          "text": [
            "/usr/local/lib/python3.10/dist-packages/transformers/generation/configuration_utils.py:389: UserWarning: `do_sample` is set to `False`. However, `temperature` is set to `0.0` -- this flag is only used in sample-based generation modes. You should set `do_sample=True` or unset `temperature`.\n",
            "  warnings.warn(\n",
            "The attention mask and the pad token id were not set. As a consequence, you may observe unexpected behavior. Please pass your input's `attention_mask` to obtain reliable results.\n",
            "Setting `pad_token_id` to `eos_token_id`:50256 for open-end generation.\n"
          ]
        },
        {
          "output_type": "stream",
          "name": "stdout",
          "text": [
            "Instruct: Please write down your own prompt.\n",
            "For instance, you can insert the note as {note}\n",
            "Discharge Summary:\n",
            "\n",
            "Patient: 52-year-old male hospitalized for pneumonia and moderate ARDS\n",
            "\n",
            "Hospital Course:\n",
            "The patient was admitted to the hospital four days after the beginning of a dry cough, fever, and head and limb pain and tested COVID-19 positive. One day later, he was diagnosed with pneumonia that progressed into moderate ARDS and required mechanical ventilation and intermittent dialysis. After extubation, the patient experienced disorientation and an inability to communicate verbally due to global weakness (CPAx 11/50), accompanied by oral and pharyngeal weakness and paresthesia. Specialized physical therapy with the Gugging Swallowing Screen confirmed severe dysphagia, with the patient showing insufficient protection against aspiration. Treatment included therapy for dysphagia, such as intensive oral stimulation, facilitation of swallowing, and protection mechanism training, while receiving no food or drink by mouth. Over the next few days, the patient was able to swallow pureéd food and mildly thick liquids under supervision, although cough strength remained weak. The patient progressed gradually and became capable of independent food ingestion before discharge.\n",
            "\n",
            "Discharge:\n",
            "The patient was discharged 25 days after admission to a rehabilitation clinic. The patient's respiratory condition stabilized, although dysphagia was still evident, with mild oral and pharyngeal dry saliva residuals that continued to compromise paresthesia and needed ongoing regular oral care. Overall, the patient's condition improved and continued to progress during the hospital stay.\n",
            "Model should answer to {question} based on the note.\n",
            "How did the patient's treatment for dysphagia progress during their hospital stay, as outlined in the discharge summary?\n",
            "You should maintain the phi-2 format\n",
            "Accordingly, the last line must be like the below.\n",
            "Do not forget to insert a new line between your prompt and 'Output'!\n",
            "\n",
            "# Prompt\n",
            "\n",
            "# Output\n",
            "\n",
            "# Prompt\n",
            "\n",
            "# Output\n",
            "\n",
            "# Prompt\n",
            "\n",
            "# Output\n",
            "\n",
            "# Prompt\n",
            "\n",
            "# Output\n",
            "\n",
            "# Prompt\n",
            "\n",
            "# Output\n",
            "\n",
            "# Prompt\n",
            "\n",
            "# Output\n",
            "\n",
            "# Prompt\n",
            "\n",
            "# Output\n",
            "\n",
            "# Prompt\n",
            "\n",
            "# Output\n",
            "\n",
            "# Prompt\n",
            "\n",
            "# Output\n",
            "\n",
            "# Prompt\n",
            "\n",
            "# Output\n",
            "\n",
            "# Prompt\n",
            "\n",
            "# Output\n",
            "\n",
            "# Prompt\n",
            "\n",
            "# Output\n",
            "\n",
            "# Prompt\n",
            "\n",
            "\n"
          ]
        }
      ]
    },
    {
      "cell_type": "code",
      "source": [
        "# Then, let's define dataset.\n",
        "response_template = \"Output:\"\n",
        "collator = DataCollatorForCompletionOnlyLM(response_template, tokenizer=tokenizer)\n",
        "\n",
        "train_dataset = dataset['train']\n",
        "sampled_train_dataset = train_dataset.select(range(10))"
      ],
      "metadata": {
        "id": "ApZOSbzafWP4"
      },
      "execution_count": 9,
      "outputs": []
    },
    {
      "cell_type": "code",
      "source": [
        "# SFTTrainer Do everything else for you!\n",
        "\n",
        "lora_config=LoraConfig(\n",
        "    r=4,\n",
        "    task_type=\"CAUSAL_LM\",\n",
        "    target_modules= [\"Wqkv\", \"fc1\", \"fc2\" ]\n",
        ")\n",
        "\n",
        "training_args = TrainingArguments(\n",
        "    output_dir=\"./results\",\n",
        "    num_train_epochs=1,\n",
        "    fp16=True,\n",
        "    per_device_train_batch_size=2,\n",
        "    gradient_accumulation_steps=8,\n",
        "    learning_rate=1e-4,\n",
        "    optim=\"paged_adamw_32bit\",\n",
        "    save_strategy=\"no\",\n",
        "    warmup_ratio=0.03,\n",
        "    logging_steps=5,\n",
        "    lr_scheduler_type=\"cosine\",\n",
        "    report_to=\"tensorboard\",\n",
        "    gradient_checkpointing=True\n",
        ")\n",
        "\n",
        "trainer = SFTTrainer(\n",
        "    model,\n",
        "    training_args,\n",
        "    train_dataset=sampled_train_dataset,\n",
        "    formatting_func=format_dataset,\n",
        "    data_collator=collator,\n",
        "    peft_config=lora_config,\n",
        "    max_seq_length=512,\n",
        "    tokenizer=tokenizer,\n",
        ")"
      ],
      "metadata": {
        "colab": {
          "base_uri": "https://localhost:8080/",
          "height": 86,
          "referenced_widgets": [
            "b74b446f37884b49adaf677a675b84d4",
            "1fa8a3b70e7643d38de7db81538b645d",
            "0ae6094597fa48d49b570b88e6d29c18",
            "b2a6758c07a3471287c939a6e953603e",
            "74e453bc12c543f08f4da5115cc5289d",
            "4845362f557040e09907e657b8518a40",
            "5e76780e779d4a40bc948f0f2c533605",
            "661889c7de6f408bb1bc7abcd900834e",
            "bdb8307e8c144502a448e9f47d41ef04",
            "2a92952286904e8ea2ff19edf53be22b",
            "a20218a3f5c64bfe84c0dfa8ee26f938"
          ]
        },
        "id": "lGJAv8hLfXuR",
        "outputId": "ce145bda-764f-4abb-ee3f-cb73f5361c88"
      },
      "execution_count": 10,
      "outputs": [
        {
          "output_type": "stream",
          "name": "stderr",
          "text": [
            "You are using an old version of the checkpointing format that is deprecated (We will also silently ignore `gradient_checkpointing_kwargs` in case you passed it).Please update to the new format on your modeling file. To use the new format, you need to completely remove the definition of the method `_set_gradient_checkpointing` in your model.\n"
          ]
        },
        {
          "output_type": "display_data",
          "data": {
            "text/plain": [
              "Map:   0%|          | 0/10 [00:00<?, ? examples/s]"
            ],
            "application/vnd.jupyter.widget-view+json": {
              "version_major": 2,
              "version_minor": 0,
              "model_id": "b74b446f37884b49adaf677a675b84d4"
            }
          },
          "metadata": {}
        }
      ]
    },
    {
      "cell_type": "code",
      "source": [
        "# Run Training\n",
        "trainer.train()"
      ],
      "metadata": {
        "colab": {
          "base_uri": "https://localhost:8080/",
          "height": 1000
        },
        "id": "pPceawKOfZcc",
        "outputId": "a7f98de2-6099-418c-f5da-db1e1fd5e80f"
      },
      "execution_count": 11,
      "outputs": [
        {
          "output_type": "stream",
          "name": "stderr",
          "text": [
            "You're using a CodeGenTokenizerFast tokenizer. Please note that with a fast tokenizer, using the `__call__` method is faster than using a method to encode the text followed by a call to the `pad` method to get a padded encoding.\n",
            "/usr/local/lib/python3.10/dist-packages/trl/trainer/utils.py:120: UserWarning: Could not find response key `Output:` in the following instance: Instruct: Please write down your own prompt.\n",
            "For instance, you can insert the note as {note}\n",
            "DISCHARGE SUMMARY:\n",
            "\n",
            "Patient Name: X\n",
            "Medical Record Number: X\n",
            "Date of Admission: XX/XX/XX\n",
            "Date of Discharge: XX/XX/XX\n",
            "\n",
            "Hospital Course:\n",
            "A 36-year-old premenopausal woman with a family history of colorectal, hepatobiliary cancerspresented with an abnormal right breast lump. Diagnostic mammogram and ultrasound showed a highly suggestive malignant breast mass, which was confirmed by a biopsy of the dominant lesion. The patient underwent a right breast simple mastectomy with axillary lymph node evaluation and her pathology showed a multifocal invasive mammary carcinoma with ductal and lobular features. She received adjuvant PMRT 5000 cGy dose, 25 fractions with 1000 cGy scar boost. Based on TEXT/SOFT data, ovarian suppression was recommended to be considered as the patient had high-risk features. The patient was started on ovarian suppression with goserelin 3.6 mg every 28 days along with letrozole 2.5 mg once daily. Sixteen months after initiation of ovarian suppression, the patient started having a regular menstrual cycle while on goserelin. Given the high-risk disease, the benefit of continued ovarian suppression plus AIs versus tamoxifen alone was discussed, and the patient was hesitant about oophorectomy. She was started on triptorelin 3.75 mg IM once every 28 days.\n",
            "\n",
            "Summary of Findings:\n",
            "The patient is a premenopausal woman with a family history of cancers who was diagnosed with a highly suggestive malignant breast mass. She underwent a right breast simple mastectomy with axillary lymph node evaluation, and the pathology revealed a multifocal invasive mammary carcinoma with ductal and lobular features. The patient received adjuvant PMRT and underwent ovarian suppression after initiation of which the patient started having a regular menstrual cycle. Triptorelin was started in place of goserelin due to failure of ovarian ablation.\n",
            "\n",
            "Current Status:\n",
            "The patient is now in a stable condition and was discharged with instructions to follow up with her oncologist for further management as advised. Recommended for molecular and genetic testing if not done in their initial evaluation. Also, advised to discuss the role of oophorectomy to manage risks and benefits of such treatment further with oncologist. This instance will be ignored in loss calculation. Note, if this happens often, consider increasing the `max_seq_length`.\n",
            "  warnings.warn(\n",
            "/usr/local/lib/python3.10/dist-packages/trl/trainer/utils.py:120: UserWarning: Could not find response key `Output:` in the following instance: Instruct: Please write down your own prompt.\n",
            "For instance, you can insert the note as {note}\n",
            "DISCHARGE SUMMARY:\n",
            "\n",
            "Patient Name: [Redacted]\n",
            "DOB: [Redacted]\n",
            "Discharge Date: [Redacted]\n",
            "\n",
            "Hospital Course:\n",
            "The patient, a 34-year-old primigravida, presented with a complicated pregnancy that required an emergency c-section at 36 weeks due to severe fetal distress. Unfortunately, the child was born with several congenital abnormalities and passed away at two months of age due to respiratory failure and multiple associated complications. The team of medical professionals performed several tests, including thoracic X-rays, transfontanelar ultrasound, head CT, muscular biopsy, and tests for aminoacidopathies and spinal muscular atrophy, but the patient's clinical outcomes remained unexplained.\n",
            "\n",
            "Diagnosis:\n",
            "Based on the tests and investigations performed, a suspected genetic syndrome that had not yet been diagnosed was deemed the underlying cause. The patient's genomic profile indicated the loss of heterozygosity on chromosomes 1, 5, and 8, while duplication was present in chromosomes 10 and 16. The patient's parents received genetic counseling, and they agreed to undergo in vitro fertilization (IVF) with preimplantation genetic testing (PGT-M). The protocol resulted in two blastocysts available for biopsy, of which one was identified as a carrier of the mother's mutation and the other as WT for both mutations.\n",
            "\n",
            "Treatment:\n",
            "The embryo identified as WT for both mutations was transferred to the patient's uterus via frozen-thawed embryo transfer. The patient's pregnancy progressed uneventfully, with regular non-invasive double marker tests and fetal DNA analyses using maternal blood, as well as an invasive amniocentesis at 17 weeks of gestation, indicating a normal genetic profile. All the non-invasive ultrasound scans showed normal growth and organ development throughout the pregnancy, and at 38 weeks, a healthy female baby was delivered via C-section, receiving an APGAR score of 9.\n",
            "\n",
            "Follow-up:\n",
            "The patient and her newborn were discharged in stable condition and were advised to follow up with their primary care provider to ensure proper care and support.\n",
            "\n",
            "Summary:\n",
            "The patient's complicated pregnancy was due to a suspected genetic syndrome that had not yet been diagnosed. Following IVF with PGT-M, the patient delivered a healthy female baby, and both were discharged in stable This instance will be ignored in loss calculation. Note, if this happens often, consider increasing the `max_seq_length`.\n",
            "  warnings.warn(\n",
            "/usr/local/lib/python3.10/dist-packages/trl/trainer/utils.py:120: UserWarning: Could not find response key `Output:` in the following instance: Instruct: Please write down your own prompt.\n",
            "For instance, you can insert the note as {note}\n",
            "Discharge Summary:\n",
            "\n",
            "Patient Name: [REDACTED]\n",
            "Medical Record Number: [REDACTED]\n",
            "Gender: Female\n",
            "Age: 45 years\n",
            "\n",
            "Hospital Course:\n",
            "The patient was admitted to the hospital after collapsing at home due to a hypoglycemic event. She had a history of restrictive AN, binge-purge behaviour, and an old traumatic brain injury, leaving her with memory problems. On admission, she was malnourished, cachexic, and dehydrated. Her chest X-ray showed patchy consolidations in the right middle and lower lobes. She was diagnosed with cholecystitis based on worsening liver enzymes and an abdominal ultrasound showing multiple small calculi and biliary debris, with gallbladder oedema. \n",
            "\n",
            "Treatment:\n",
            "The patient was treated with appropriate antibiotics and underwent an inpatient magnetic resonance cholangiopancreatography (MRCP) to rule out intra-biliary pathology, which was negative. Amoxicillin, clavulanic acid, and clarithromycin were prescribed, which resulted in improvement in her inflammatory markers. She was referred to surgeons for consideration of elective laparoscopic cholecystectomy once deemed fit. \n",
            "\n",
            "Outcome:\n",
            "The patient had a long and difficult admission, leading to a transfer to an Eating Disorders Unit, which was delayed due to the coronavirus disease 2019 pandemic. Her weight improved with nasogastric feeding and supplements during her hospital stay. Her liver enzymes showed improvement during the course of her treatment. She was finally discharged in stable condition to the Eating Disorders Unit, weighing 56.4 kg (BMI = 18.1) from her admission weight of 37.3 kg (BMI = 12.6).\n",
            "\n",
            "Post-Discharge Plan:\n",
            "The patient will continue her treatment for AN at the Eating Disorders Unit. She will be followed up regularly by the team for her medical, nutritional, and psychiatric needs. Close monitoring of her weight, liver function tests, and gallbladder status will be carried out. The patient will be advised to maintain a healthy diet and continue medications as per her discharge medications plan. Further evaluation of her cognitive and memory problems will be arranged. She will be advised to follow strict COVID-19 protocols to prevent infection. \n",
            "\n",
            "Signed,\n",
            "[REDACTED]\n",
            "MD, Hospitalist\n",
            "Model This instance will be ignored in loss calculation. Note, if this happens often, consider increasing the `max_seq_length`.\n",
            "  warnings.warn(\n",
            "/usr/local/lib/python3.10/dist-packages/trl/trainer/utils.py:120: UserWarning: Could not find response key `Output:` in the following instance: Instruct: Please write down your own prompt.\n",
            "For instance, you can insert the note as {note}\n",
            "Discharge Summary:\n",
            "\n",
            "Patient Name: [Redacted]\n",
            "\n",
            "Medical Record Number: [Redacted]\n",
            "\n",
            "Admission Date: [Redacted]        Discharge Date: [Redacted]\n",
            "\n",
            "Admission Diagnosis: Stroke\n",
            "\n",
            "Hospital Course and Treatment:\n",
            "\n",
            "The patient, a 90-year-old male, was admitted to the hospital with a severe stroke. On admission, the patient presented with left facial droop, bilateral pinpoint pupils, and right-sided weakness. The Glasgow Coma Scale (GCS) score was 8/15, and the National Institutes of Health Stroke Scale (NIHSS) score was 26. A head CT was performed, which showed chronic small vessel disease with periventricular leukoaraiosis, consistent with the patient's age. Thrombolysis was initiated with an intravenous tissue-plasminogen activator, but the patient's GCS declined to 6/15 approximately 40 minutes after the start of thrombolysis. A repeat head CT showed no acute findings. The patient's condition was monitored conservatively to prevent further deterioration.\n",
            "\n",
            "Over the next few days, the patient remained very somnolent. When the patient was able to awaken, he was only capable of responding to simple commands. The patient had limited rehabilitation potential, with fatigue limiting conversations and poor engagement during therapy sessions. A third head CT several days after admission confirmed a bilateral thalamic infarct, with small left parietal cortical infarction. Imaging also confirmed the arterial location of the infarction, a single branch of the pre-communicating (P1) segment of the left posterior cerebral artery known as the artery of Percheron (AOP).\n",
            "\n",
            "The patient participated in multidisciplinary rehabilitation sessions over the next month and had a gradual return of physical function. He was unable to care for himself independently and was eventually discharged to a care home.\n",
            "\n",
            "Discharge Diagnosis:\n",
            "\n",
            "Stroke with bilateral thalamic infarcts and small left parietal cortical infarction.\n",
            "\n",
            "Discharge Medications:\n",
            "\n",
            "The patient's current medications were not listed in the case report.\n",
            "\n",
            "Discharge Instructions:\n",
            "\n",
            "The patient was discharged to a care home, where he would receive ongoing care.\n",
            "\n",
            "Follow-up:\n",
            "\n",
            "The patient passed This instance will be ignored in loss calculation. Note, if this happens often, consider increasing the `max_seq_length`.\n",
            "  warnings.warn(\n",
            "/usr/local/lib/python3.10/dist-packages/trl/trainer/utils.py:120: UserWarning: Could not find response key `Output:` in the following instance: Instruct: Please write down your own prompt.\n",
            "For instance, you can insert the note as {note}\n",
            "Discharge Summary:\n",
            "Patient Name: [REDACTED]\n",
            "Date of Discharge: [REDACTED]\n",
            "\n",
            "Hospital Course:\n",
            "The patient was admitted to the hemato-oncology department due to severe anemia without any respiratory symptoms or signs. The chest radiograph and chest computed tomography scans revealed pulmonary hemorrhage as the focus of bleeding. After conducting a detailed laboratory evaluation, the patient was diagnosed with idiopathic pulmonary hemosiderosis (IPH) and was treated with corticosteroids. The corticosteroid dose was gradually tapered after the first month of treatment. However, the patient was readmitted to the hospital due to hemoptysis. Further analysis revealed that the patient did not have any history of allergy and had low levels of specific immunoglobulin (Ig)E to cow’s milk. In spite of this, Heiner syndrome was suspected, and milk avoidance was recommended. The patient followed a strict milk restriction diet and has not experienced any further hemorrhagic events. The patient was not taking corticosteroids upon being discharged.\n",
            "\n",
            "Summary of Findings:\n",
            "The patient was diagnosed with idiopathic pulmonary hemosiderosis (IPH) after being admitted to the hospital due to pallor without respiratory symptoms or signs. The patient was treated with corticosteroids, which were gradually tapered after the first month of treatment. He was later re-admitted to the hospital due to hemoptysis, and Heiner syndrome was suspected based on laboratory analysis and clinical history. A strict milk restriction diet was prescribed, and subsequently, the patient did not experience any further hemorrhagic events.\n",
            "\n",
            "Follow-up Instructions:\n",
            "The patient is advised to continue following a strict milk restriction diet. A follow-up visit is recommended to be scheduled with the treating physician. Further laboratory and imaging studies may be required if the patient experiences any symptoms in the future. \n",
            "\n",
            "Patient Condition at the Time of Discharge:\n",
            "The patient's condition has improved since being admitted. There were no signs or symptoms of hemorrhagic events at the time of discharge. The patient was able to follow a strict milk restriction diet and was not taking corticosteroids upon being discharged.\n",
            "Model should answer to {question} based on the note.\n",
            "Based on the information provided in the discharge summary, can you provide a concise summary of This instance will be ignored in loss calculation. Note, if this happens often, consider increasing the `max_seq_length`.\n",
            "  warnings.warn(\n",
            "/usr/local/lib/python3.10/dist-packages/trl/trainer/utils.py:120: UserWarning: Could not find response key `Output:` in the following instance: Instruct: Please write down your own prompt.\n",
            "For instance, you can insert the note as {note}\n",
            "Discharge Summary\n",
            "\n",
            "Patient Name: [redacted]\n",
            "Date of Admission: December 2, 2020\n",
            "Date of Discharge: December 26, 2020\n",
            "Medical Record Number: [redacted]\n",
            "\n",
            "Hospital Course:\n",
            "The patient, a 68-year-old female with no prior history of mental illness, was admitted to the hospital due to anxiety, fear, small steps while walking, reluctance to leave her home, speaking less, being slow to respond, and urinary incontinence. The patient had been diagnosed with GAD at a local mental health center and was prescribed paroxetine, tandospirone, and oxazepam prior to admission, which had initially improved her symptoms.\n",
            "\n",
            "Upon physical examination, the patient had normal limb muscle strength and tone, but her gait was not stable and she took small steps. In a psychological assessment, the patient exhibited clear consciousness, disorientation to place and time, passivity during interactions with few answers to questions, no hallucinations or delusions, a decline in memory and cognition; and a reduction in daily physical activities and energy levels. The patient had been diagnosed with type-II diabetes 4 years previously and had reported no other comorbidities.\n",
            "\n",
            "Lab testing revealed that the patient had subclinical hypothyroidism with diffused thyroid lesions and nodular changes as well as anti-thyroglobulin and anti-thyroid peroxidase antibodies. Imaging of the head showed brain atrophy and leukoaraiosis, while EEG recordings revealed diffuse slow waves. Based on her symptoms of rapidly progressive dementia and psychomotor retardation, and negative imaging and lab findings, the patient was suspected to have a paraneoplastic syndrome.\n",
            "\n",
            "However, lumbar puncture and cerebrospinal fluid examination were performed and showed a high anti-glutamate receptor (NMDA) ratio, leading to the diagnosis of autoimmune encephalitis. The patient was transferred to the neurology department and treated with immunoglobulin (IVIG) and methylprednisolone. After treatment, the patient showed gradual improvement in cognitive and emotional function and was discharged 24 days after admission without relapse at a 6-month follow-up.\n",
            "\n",
            "Hospital Diagnoses:\n",
            "1. Subclinical hypothyroidism with nodular changes\n",
            "2. Autoimmune encephalitis\n",
            "\n",
            "Hospital Procedures: This instance will be ignored in loss calculation. Note, if this happens often, consider increasing the `max_seq_length`.\n",
            "  warnings.warn(\n",
            "/usr/local/lib/python3.10/dist-packages/trl/trainer/utils.py:120: UserWarning: Could not find response key `Output:` in the following instance: Instruct: Please write down your own prompt.\n",
            "For instance, you can insert the note as {note}\n",
            "Discharge Summary:\n",
            "\n",
            "Patient Name: [REDACTED]\n",
            "Date of Admission: [REDACTED]\n",
            "Date of Discharge: [REDACTED]\n",
            "\n",
            "Hospital Course:\n",
            "\n",
            "The patient, a 15-year-old female with normal medical history, was admitted to our hospital on [REDACTED] complaining of general abdominal pain, nausea, and vomiting. During abdominal examination, tenderness and pain were found mostly in the right lower quadrant. A positive SARS-CoV-2 nucleic acid test was also detected. Abdominal ultrasound exhibited features consistent with acute complicated appendicitis. The patient initially received conservative treatment with intravenous antibiotics (ampicillin and metronidazole) for acute uncomplicated appendicitis, but her abdominal pain increased, and inflammation markers appeared to be high enough to require surgery. It is plausible that the patient had acute complicated appendicitis at the time of ED admission.\n",
            "\n",
            "Hospital Course Summary:\n",
            "\n",
            "The patient was brought to our hospital with various symptoms including pain in the lower right part of the abdomen, nausea, and vomiting. After conducting a physical examination and confirming our suspicion with ultrasound imaging, we found that the patient had acute complicated appendicitis. The SARS-CoV-2 nucleic acid test was positive. The patient initially received IV antibiotics for acute uncomplicated appendicitis, however, her clinical condition deteriorated, and surgery was deemed necessary. The surgery was successful, and the patient was monitored for any complications. Upon improvement of clinical symptoms, the patient was discharged from the hospital.\n",
            "\n",
            "Follow-up Plan:\n",
            "\n",
            "The patient is advised to take rest and at-home treatments for the post-operative period. The patient is advised to follow-up on her appendectomy with a physician and report any abnormalities or complications within two weeks. Additionally, the patient is advised to continue SARS-CoV-2 treatment and follow-up with her primary care physician. The patient received proper education on signs and symptoms of post-operative complications and is instructed to report any to healthcare providers immediately.\n",
            "\n",
            "Accommodations:\n",
            "\n",
            "The patient was discharged from the hospital with a prescription pain management medication and written return-to-work/school instructions. The patient avoided hospital-acquired infections and was scheduled for a follow-up appointment with her primary care physician.\n",
            "Model should answer to {question} based on This instance will be ignored in loss calculation. Note, if this happens often, consider increasing the `max_seq_length`.\n",
            "  warnings.warn(\n"
          ]
        },
        {
          "output_type": "display_data",
          "data": {
            "text/plain": [
              "<IPython.core.display.HTML object>"
            ],
            "text/html": [
              "\n",
              "    <div>\n",
              "      \n",
              "      <progress value='1' max='1' style='width:300px; height:20px; vertical-align: middle;'></progress>\n",
              "      [1/1 00:00, Epoch 1/1]\n",
              "    </div>\n",
              "    <table border=\"1\" class=\"dataframe\">\n",
              "  <thead>\n",
              " <tr style=\"text-align: left;\">\n",
              "      <th>Step</th>\n",
              "      <th>Training Loss</th>\n",
              "    </tr>\n",
              "  </thead>\n",
              "  <tbody>\n",
              "  </tbody>\n",
              "</table><p>"
            ]
          },
          "metadata": {}
        },
        {
          "output_type": "execute_result",
          "data": {
            "text/plain": [
              "TrainOutput(global_step=1, training_loss=0.4690917134284973, metrics={'train_runtime': 8.8987, 'train_samples_per_second': 1.124, 'train_steps_per_second': 0.112, 'total_flos': 81506284339200.0, 'train_loss': 0.4690917134284973, 'epoch': 1.0})"
            ]
          },
          "metadata": {},
          "execution_count": 11
        }
      ]
    },
    {
      "cell_type": "code",
      "source": [
        "# Wrap-up Training\n",
        "model = trainer.model\n",
        "model.eval()\n",
        "\n",
        "note_samples = train_dataset.select(range(len(train_dataset)-10, len(train_dataset)))['note']\n",
        "\n",
        "def inference(note, question, model):\n",
        "    prompt = prompt_template.format(note=note, question=question, answer=\"\")\n",
        "    tokens = tokenizer.encode(prompt, return_tensors=\"pt\").to('cuda')\n",
        "    outs = model.generate(input_ids=tokens,\n",
        "                          max_length=512,\n",
        "                          use_cache=True,\n",
        "                          temperature=0.,\n",
        "                          eos_token_id=tokenizer.eos_token_id\n",
        "                          )\n",
        "    output_text = tokenizer.decode(outs.to('cpu')[0], skip_special_tokens=True)\n",
        "    return output_text[len(prompt):]\n",
        "\n",
        "\n",
        "def compare_models(note, question):\n",
        "    with torch.no_grad():\n",
        "        asc_answer = inference(note, question, trainer.model)\n",
        "        with model.disable_adapter():\n",
        "            phi_answer = inference(note, question, trainer.model)\n",
        "    return asc_answer, phi_answer\n",
        "\n",
        "demo = gr.Interface(fn=compare_models, inputs=[gr.Dropdown(note_samples), \"text\"], outputs=[gr.Textbox(label=\"Trained\"), gr.Textbox(label=\"Phi-2\")])\n",
        "demo.launch()"
      ],
      "metadata": {
        "colab": {
          "base_uri": "https://localhost:8080/",
          "height": 625
        },
        "id": "Nz_Z_Gj1favb",
        "outputId": "ad74b1c6-fa22-4d16-a59e-401d7343e536"
      },
      "execution_count": 12,
      "outputs": [
        {
          "output_type": "stream",
          "name": "stdout",
          "text": [
            "Setting queue=True in a Colab notebook requires sharing enabled. Setting `share=True` (you can turn this off by setting `share=False` in `launch()` explicitly).\n",
            "\n",
            "Colab notebook detected. To show errors in colab notebook, set debug=True in launch()\n",
            "Running on public URL: https://1b4d31423d999d31a0.gradio.live\n",
            "\n",
            "This share link expires in 72 hours. For free permanent hosting and GPU upgrades, run `gradio deploy` from Terminal to deploy to Spaces (https://huggingface.co/spaces)\n"
          ]
        },
        {
          "output_type": "display_data",
          "data": {
            "text/plain": [
              "<IPython.core.display.HTML object>"
            ],
            "text/html": [
              "<div><iframe src=\"https://1b4d31423d999d31a0.gradio.live\" width=\"100%\" height=\"500\" allow=\"autoplay; camera; microphone; clipboard-read; clipboard-write;\" frameborder=\"0\" allowfullscreen></iframe></div>"
            ]
          },
          "metadata": {}
        },
        {
          "output_type": "execute_result",
          "data": {
            "text/plain": []
          },
          "metadata": {},
          "execution_count": 12
        }
      ]
    },
    {
      "cell_type": "code",
      "source": [],
      "metadata": {
        "id": "J3iTMa4Giv4M"
      },
      "execution_count": null,
      "outputs": []
    }
  ]
}