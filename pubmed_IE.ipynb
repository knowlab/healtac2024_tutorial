{
  "nbformat": 4,
  "nbformat_minor": 0,
  "metadata": {
    "colab": {
      "provenance": [],
      "gpuType": "T4"
    },
    "kernelspec": {
      "name": "python3",
      "display_name": "Python 3"
    },
    "language_info": {
      "name": "python"
    },
    "accelerator": "GPU"
  },
  "cells": [
    {
      "cell_type": "markdown",
      "source": [
        "# HealTac 2024 Tutorial\n",
        "## PubMed abstract information extraction\n",
        "\n",
        "- Yunsoo Kim (yunsoo.kim.23@ucl.ac.uk), Jinge Wu (jinge.wu.20@ucl.ac.uk), Honghan Wu (honghan.wu@ucl.ac.uk)\n",
        "\n",
        "<a target=\"_blank\" href=\"https://colab.research.google.com/github/knowlab/healtac_2024_tutorial.github.io/blob/main/pubmed_IE.ipynb\">\n",
        "  <img src=\"https://colab.research.google.com/assets/colab-badge.svg\" alt=\"Open In Colab\"/>\n",
        "</a>"
      ],
      "metadata": {
        "id": "qjLzNY96Xj8L"
      }
    },
    {
      "cell_type": "markdown",
      "source": [
        "Installing dependencies"
      ],
      "metadata": {
        "id": "r_OuNzCpgUpO"
      }
    },
    {
      "cell_type": "code",
      "source": [
        "!nvidia-smi"
      ],
      "metadata": {
        "id": "DpdRjEvVUmtn"
      },
      "execution_count": null,
      "outputs": []
    },
    {
      "cell_type": "code",
      "source": [
        "!pip install datasets transformers accelerate"
      ],
      "metadata": {
        "id": "5535jk9eYF_n"
      },
      "execution_count": null,
      "outputs": []
    },
    {
      "cell_type": "code",
      "source": [
        "import requests\n",
        "from bs4 import BeautifulSoup"
      ],
      "metadata": {
        "id": "npwbI5C7PNps"
      },
      "execution_count": null,
      "outputs": []
    },
    {
      "cell_type": "markdown",
      "source": [
        "We are going to use entrez eutil to get abstract"
      ],
      "metadata": {
        "id": "syJrBgPaRAny"
      }
    },
    {
      "cell_type": "code",
      "source": [
        "def get_pmids(term, maxCount):\n",
        "    if int(maxCount)<10000:\n",
        "        r=requests.get(f'https://eutils.ncbi.nlm.nih.gov/entrez/eutils/esearch.fcgi?db=pubmed&term={term}&RetMax={maxCount}')\n",
        "        soup=BeautifulSoup(r.text)\n",
        "        try:\n",
        "            return [i.get_text(strip=True) for i in soup.find_all('id')]\n",
        "        except:\n",
        "            return []\n",
        "    else:\n",
        "        pmid_list=[]\n",
        "        for i in range(0, int(maxCount), 9999):\n",
        "            r=requests.get(f'https://eutils.ncbi.nlm.nih.gov/entrez/eutils/esearch.fcgi?db=pubmed&term={term}&RetMax=9999&retstart={i}')\n",
        "            soup=BeautifulSoup(r.text)\n",
        "            try:\n",
        "                pmid_list=pmid_list+[i.get_text(strip=True) for i in soup.find_all('id')]\n",
        "            except:\n",
        "                return []\n",
        "        return pmid_list"
      ],
      "metadata": {
        "id": "9P2ODvGERAZR"
      },
      "execution_count": null,
      "outputs": []
    },
    {
      "cell_type": "code",
      "source": [
        "def get_pubmed_abstracts(pmid):\n",
        "    r=requests.get(f'https://eutils.ncbi.nlm.nih.gov/entrez/eutils/efetch.fcgi?db=pubmed&id={pmid}')\n",
        "    soup = BeautifulSoup(r.text)\n",
        "    try:\n",
        "        return '\\n'.join([i.get_text(strip=True) for i in soup.find_all(\"abstracttext\")])\n",
        "    except:\n",
        "        return \"\""
      ],
      "metadata": {
        "id": "xOQhdI1rQ1vs"
      },
      "execution_count": null,
      "outputs": []
    },
    {
      "cell_type": "code",
      "source": [
        "pmids=get_pmids('SCN5A', 1)\n",
        "print(pmids)"
      ],
      "metadata": {
        "id": "dt6S2IILR02p"
      },
      "execution_count": null,
      "outputs": []
    },
    {
      "cell_type": "code",
      "source": [
        "get_pubmed_abstracts('38849547')"
      ],
      "metadata": {
        "id": "FNQ--pOLRyWQ"
      },
      "execution_count": null,
      "outputs": []
    },
    {
      "cell_type": "code",
      "source": [
        "data={'pmid': '15485686',\n",
        " 'text': 'A novel SCN5A mutation manifests as a malignant form of long QT syndrome with perinatal onset of tachycardia/bradycardia.\\nOBJECTIVE: Congenital long QT syndrome (LQTS) with in utero onset of the rhythm disturbances is associated with a poor prognosis. In this study we investigated a newborn patient with fetal bradycardia, 2:1 atrioventricular block and ventricular tachycardia soon after birth. METHODS: Mutational analysis and DNA sequencing were conducted in a newborn. The 2:1 atrioventricular block improved to 1:1 conduction only after intravenous lidocaine infusion or a high dose of mexiletine, which also controlled the ventricular tachycardia. RESULTS: A novel, spontaneous LQTS-3 mutation was identified in the transmembrane segment 6 of domain IV of the Na(v)1.5 cardiac sodium channel, with a G-->A substitution at codon 1763, which changed a valine (GTG) to a methionine (ATG). The proband was heterozygous but the mutation was absent in the parents and the sister. Expression of this mutant channel in tsA201 mammalian cells by site-directed mutagenesis revealed a persistent tetrodotoxin-sensitive but lidocaine-resistant current that was associated with a positive shift of the steady-state inactivation curve, steeper activation curve and faster recovery from inactivation. We also found a similar electrophysiological profile for the neighboring V1764M mutant. But, the other neighboring I1762A mutant had no persistent current and was still associated with a positive shift of inactivation. CONCLUSIONS: These findings suggest that the Na(v)1.5/V1763M channel dysfunction and possible neighboring mutants contribute to a persistent inward current due to altered inactivation kinetics and clinically congenital LQTS with perinatal onset of arrhythmias that responded to lidocaine and mexiletine.',\n",
        " 'entities': ['sodium',\n",
        "  'valine (GTG) to a methionine (ATG)',\n",
        "  'atrioventricular block',\n",
        "  'tachycardia',\n",
        "  'long QT syndrome',\n",
        "  'bradycardia',\n",
        "  'mexiletine',\n",
        "  'Na(v)1.5',\n",
        "  'SCN5A',\n",
        "  'LQTS',\n",
        "  'G-->A substitution at codon 1763',\n",
        "  'V1763M',\n",
        "  'lidocaine',\n",
        "  'V1764M',\n",
        "  'arrhythmias',\n",
        "  'I1762A',\n",
        "  'patient',\n",
        "  'tetrodotoxin',\n",
        "  'tsA201',\n",
        "  'ventricular tachycardia']}"
      ],
      "metadata": {
        "id": "eKqIijNbUKXi"
      },
      "execution_count": null,
      "outputs": []
    },
    {
      "cell_type": "code",
      "source": [
        "text=data['text']"
      ],
      "metadata": {
        "id": "EAlyn28JUQav"
      },
      "execution_count": null,
      "outputs": []
    },
    {
      "cell_type": "code",
      "source": [
        "import torch\n",
        "from transformers import AutoModelForCausalLM, AutoTokenizer\n",
        "from transformers.generation import GenerationConfig"
      ],
      "metadata": {
        "id": "Ea4PKeTleVuW"
      },
      "execution_count": null,
      "outputs": []
    },
    {
      "cell_type": "code",
      "source": [
        "model = AutoModelForCausalLM.from_pretrained(\n",
        "        'bluesky333/medphi2',\n",
        "        device_map=\"auto\",\n",
        "        trust_remote_code=True,\n",
        "    ).eval()\n",
        "\n",
        "model.generation_config = GenerationConfig.from_pretrained(\n",
        "    'bluesky333/medphi2', trust_remote_code=True\n",
        ")"
      ],
      "metadata": {
        "id": "dkRw8xLKeptv"
      },
      "execution_count": null,
      "outputs": []
    },
    {
      "cell_type": "code",
      "source": [
        "tokenizer = AutoTokenizer.from_pretrained(\n",
        "    'bluesky333/medphi2'\n",
        ")"
      ],
      "metadata": {
        "id": "FEEhcPMygLbZ"
      },
      "execution_count": null,
      "outputs": []
    },
    {
      "cell_type": "code",
      "source": [
        "DEVICE = \"cuda\" if torch.cuda.is_available() else \"cpu\""
      ],
      "metadata": {
        "id": "k6eEFFxqiGy8"
      },
      "execution_count": null,
      "outputs": []
    },
    {
      "cell_type": "code",
      "source": [
        "def get_response(question):\n",
        "    inputs = tokenizer(question, return_tensors=\"pt\", return_attention_mask=False).to(DEVICE)\n",
        "    response = model.generate(**inputs,\n",
        "                         eos_token_id=tokenizer.eos_token_id,  # End of sequence token\n",
        "                         pad_token_id=tokenizer.eos_token_id,  # Pad token\n",
        "                         max_new_tokens=1024,\n",
        "                        )\n",
        "    output = tokenizer.decode(response.squeeze()[len(inputs['input_ids'][0]):], skip_special_tokens=True)\n",
        "    return output"
      ],
      "metadata": {
        "id": "gk6Va86yepHT"
      },
      "execution_count": null,
      "outputs": []
    },
    {
      "cell_type": "code",
      "source": [
        "data['entities']"
      ],
      "metadata": {
        "id": "JuXOhc_gKp4D"
      },
      "execution_count": null,
      "outputs": []
    },
    {
      "cell_type": "code",
      "source": [
        "get_response(\"Extract biomedical named entities. \\n\"+text)"
      ],
      "metadata": {
        "id": "2tGnDWmMQefu"
      },
      "execution_count": null,
      "outputs": []
    },
    {
      "cell_type": "code",
      "source": [
        "print(get_response(\"Extract biomedical named entities and map them with their types. \\n\"+text))"
      ],
      "metadata": {
        "id": "bojBaGLcgqpY"
      },
      "execution_count": null,
      "outputs": []
    },
    {
      "cell_type": "code",
      "source": [
        "print(get_response(\"Extract biomedical named entities and map them with their types. Give me the result in a table.  \\n\"+text))"
      ],
      "metadata": {
        "id": "ZgnWAwOlFf7I"
      },
      "execution_count": null,
      "outputs": []
    },
    {
      "cell_type": "markdown",
      "source": [
        "In context learning"
      ],
      "metadata": {
        "id": "AU33qXpyJY0_"
      }
    },
    {
      "cell_type": "code",
      "source": [
        "print(get_response(\"Extract biomedical named entities and map them with their types. Also, do relation extraction. Give me the result in a table.  \\n\"+text))"
      ],
      "metadata": {
        "id": "tCHGwdbVg44_"
      },
      "execution_count": null,
      "outputs": []
    },
    {
      "cell_type": "code",
      "source": [
        "print(get_response(\"Extract biomedical named entities and map them with their types. Also, do relation extraction. The relationship format should be Gene A <-> Disease B if Gene A has an association with Disease B. Give me the result in a table.  \\n\"+text))"
      ],
      "metadata": {
        "id": "f57uU0VcRGUA"
      },
      "execution_count": null,
      "outputs": []
    },
    {
      "cell_type": "markdown",
      "source": [
        "Chain of Thought"
      ],
      "metadata": {
        "id": "Xlix1RfiIgpI"
      }
    },
    {
      "cell_type": "code",
      "source": [
        "get_pubmed_abstracts('38849547')"
      ],
      "metadata": {
        "id": "qhmV-quLKtel"
      },
      "execution_count": null,
      "outputs": []
    },
    {
      "cell_type": "code",
      "source": [
        "text0='Sudden infant death syndrome (SIDS) is still the leading cause of death for newborns in developed countries. The pathophysiological mechanisms have not been fully clarified, but in some of SIDS cases variants of genes associated with inherited cardiac conditions are found. In this study, an analysis of SCD-related genes was performed to determine the prevalence of rare pathogenic (P) or likely pathogenic (LP) variants that could provide an unambiguous explanation for the fatal event. A cohort of 76 SIDS cases underwent Next-Generation Sequencing (NGS) analysis with a custom panel of SCD-related genes. Rare variants were classified according to the guidelines provided by the American College of Medical Genetics and Genomics (ACMG) and the specifications of the ClinGen association. Post-mortem genetic testing identified 50 (65.8%) carriers of at least one variant in SCD genes. 104 rare genetic variants were found, 65.4% in genes encoding structural proteins. Only 4 out of 76 cases (5.3%) hosted at least a P or LP variant found in genes with structural or structural/arrhythmogenic functions (SLC22A5, SCN5A, MYL3and TTN). 99 variants were classified as of uncertain significance (VUS)'"
      ],
      "metadata": {
        "id": "lqsj8BmuKy7N"
      },
      "execution_count": null,
      "outputs": []
    },
    {
      "cell_type": "code",
      "source": [
        "get_response(\"Calculate the chi-square p-value of the difference in the distribution of variants between gene groups by function. \\n\"+text0)"
      ],
      "metadata": {
        "id": "JI98T2DKKPzy"
      },
      "execution_count": null,
      "outputs": []
    },
    {
      "cell_type": "code",
      "source": [
        "print(get_response(\"Calculate the chi-square p-value of the difference in the distribution of variants between gene groups by function. Show me the step by step calculation. \\n\"+text0))"
      ],
      "metadata": {
        "id": "Vrw-ajYeUdup"
      },
      "execution_count": null,
      "outputs": []
    },
    {
      "cell_type": "code",
      "source": [],
      "metadata": {
        "id": "mbsCcovnUBX_"
      },
      "execution_count": null,
      "outputs": []
    }
  ]
}